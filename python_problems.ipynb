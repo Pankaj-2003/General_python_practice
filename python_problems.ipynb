{
  "nbformat": 4,
  "nbformat_minor": 0,
  "metadata": {
    "colab": {
      "provenance": [],
      "authorship_tag": "ABX9TyNpfsFrS+Umj6wrGlGqv1Wi",
      "include_colab_link": true
    },
    "kernelspec": {
      "name": "python3",
      "display_name": "Python 3"
    },
    "language_info": {
      "name": "python"
    }
  },
  "cells": [
    {
      "cell_type": "markdown",
      "metadata": {
        "id": "view-in-github",
        "colab_type": "text"
      },
      "source": [
        "<a href=\"https://colab.research.google.com/github/Pankaj-2003/General_python_practice/blob/main/python_problems.ipynb\" target=\"_parent\"><img src=\"https://colab.research.google.com/assets/colab-badge.svg\" alt=\"Open In Colab\"/></a>"
      ]
    },
    {
      "cell_type": "code",
      "execution_count": null,
      "metadata": {
        "id": "Shc6PEDODOju"
      },
      "outputs": [],
      "source": [
        "# problem 1 -swap 1st and last element of list\n",
        "def swap(the_list):\n",
        "  temp = the_list[0]\n",
        "  the_list[0] = the_list[-1]\n",
        "  the_list[-1] = temp\n",
        "  return the_list"
      ]
    },
    {
      "cell_type": "code",
      "source": [
        "# problem 2 , Given a list in Python and provided the positions of the elements, write a program to swap the two elements in the list.\n",
        "input= [1, 2,3,4,5]\n",
        "pos1 = 2\n",
        "pos2 = 5\n",
        "def swap_given_pos(input , pos1 , pos2):\n",
        "\n",
        "  input[pos1-1] , input[pos2-1] = input[pos2-1] , input[pos1-1]\n",
        "  return input"
      ],
      "metadata": {
        "id": "Dk9SujhsEyhb"
      },
      "execution_count": null,
      "outputs": []
    },
    {
      "cell_type": "code",
      "source": [
        "# problem 3 , Given a list of integers with duplicate elements in it. The task is to generate another list, which contains only the duplicate elements. In simple words, the new list should contain elements that appear as more than one.\n",
        "input =  [10, 20, 30, 20, 20, 30, 40, 50, -20, 60, 60, -20, -20]\n",
        "\n",
        "def duplicate_list(input):\n",
        "  unique = []\n",
        "  duplicate = []\n",
        "  for i in input:\n",
        "    if i not in unique:\n",
        "      unique.append(i)\n",
        "    else:\n",
        "      if i not in duplicate:\n",
        "        duplicate.append(i)\n",
        "  return duplicate\n",
        "\n",
        "\n"
      ],
      "metadata": {
        "id": "I80UQBUFE5Ew"
      },
      "execution_count": null,
      "outputs": []
    },
    {
      "cell_type": "code",
      "source": [
        "# problems on list of list\n",
        "# problem 4 , remove empty list\n",
        "input = [5, 6, [], 3, [], [], 9]\n",
        "def remove_empty_list(input):\n",
        "  input = [i for i in input if i != []]\n",
        "  return input\n"
      ],
      "metadata": {
        "id": "VXEh0SAWGguC"
      },
      "execution_count": null,
      "outputs": []
    },
    {
      "cell_type": "code",
      "source": [
        "# problem5\n",
        "# Given a List, extract all elements whose frequency is greater than K.\n",
        "input = [4, 6, 4, 3, 3, 4, 3, 4, 3, 8]\n",
        "K = 3\n",
        "def greater_than(input):\n",
        "  for i in input:\n",
        "    pass\n"
      ],
      "metadata": {
        "colab": {
          "base_uri": "https://localhost:8080/"
        },
        "id": "FHzkfsxeIkFt",
        "outputId": "8c31da2a-c86e-4049-ed25-7aa818d35e16"
      },
      "execution_count": null,
      "outputs": [
        {
          "output_type": "execute_result",
          "data": {
            "text/plain": [
              "[5, 6, 3, 9]"
            ]
          },
          "metadata": {},
          "execution_count": 26
        }
      ]
    },
    {
      "cell_type": "code",
      "source": [
        "# 50 array interview questions\n",
        "def peakElement(arr, n):\n",
        "\n",
        "    if n ==1:\n",
        "        print(\"yes\")\n",
        "        return 1\n",
        "\n",
        "    else:\n",
        "\n",
        "        for i in range(n):\n",
        "\n",
        "            if i == 0:\n",
        "\n",
        "                if arr[i] >= arr[i + 1]:\n",
        "\n",
        "                    return i\n",
        "                else:\n",
        "                  continue\n",
        "\n",
        "            elif i == n-1:\n",
        "                if arr[i] >= arr[i - 1]:\n",
        "\n",
        "                    return i\n",
        "            else:\n",
        "                if arr[i] >= arr[i-1] and arr[i] >= arr[i+1]:\n",
        "\n",
        "                    return i"
      ],
      "metadata": {
        "id": "kXUZizVWIkI7"
      },
      "execution_count": 29,
      "outputs": []
    },
    {
      "cell_type": "code",
      "source": [
        "arr = [0]\n",
        "n = 1\n",
        "peakElement(arr , n)"
      ],
      "metadata": {
        "id": "_GWKiVkxIkMc",
        "colab": {
          "base_uri": "https://localhost:8080/"
        },
        "outputId": "813bc86d-f4f5-4d0c-d112-6d5a631f2f6a"
      },
      "execution_count": 30,
      "outputs": [
        {
          "output_type": "stream",
          "name": "stdout",
          "text": [
            "yes\n"
          ]
        },
        {
          "output_type": "execute_result",
          "data": {
            "text/plain": [
              "1"
            ]
          },
          "metadata": {},
          "execution_count": 30
        }
      ]
    },
    {
      "cell_type": "code",
      "source": [],
      "metadata": {
        "id": "H_vIAsm9IkP7",
        "colab": {
          "base_uri": "https://localhost:8080/",
          "height": 141
        },
        "outputId": "9b5ec283-a593-40e6-bea3-aed5b39f6eca"
      },
      "execution_count": 4,
      "outputs": [
        {
          "output_type": "error",
          "ename": "TypeError",
          "evalue": "'set' object is not subscriptable",
          "traceback": [
            "\u001b[0;31m---------------------------------------------------------------------------\u001b[0m",
            "\u001b[0;31mTypeError\u001b[0m                                 Traceback (most recent call last)",
            "\u001b[0;32m<ipython-input-4-d3e0db857085>\u001b[0m in \u001b[0;36m<cell line: 1>\u001b[0;34m()\u001b[0m\n\u001b[0;32m----> 1\u001b[0;31m \u001b[0marr\u001b[0m\u001b[0;34m[\u001b[0m\u001b[0;36m0\u001b[0m\u001b[0;34m]\u001b[0m\u001b[0;34m\u001b[0m\u001b[0;34m\u001b[0m\u001b[0m\n\u001b[0m",
            "\u001b[0;31mTypeError\u001b[0m: 'set' object is not subscriptable"
          ]
        }
      ]
    },
    {
      "cell_type": "code",
      "source": [],
      "metadata": {
        "id": "msM8ixqFIkTK"
      },
      "execution_count": null,
      "outputs": []
    },
    {
      "cell_type": "code",
      "source": [],
      "metadata": {
        "id": "XWaP-p63IkXC"
      },
      "execution_count": null,
      "outputs": []
    },
    {
      "cell_type": "code",
      "source": [],
      "metadata": {
        "id": "7gxKyZMkIkbM"
      },
      "execution_count": null,
      "outputs": []
    },
    {
      "cell_type": "code",
      "source": [],
      "metadata": {
        "id": "mFDBnQQGIkfJ"
      },
      "execution_count": null,
      "outputs": []
    },
    {
      "cell_type": "code",
      "source": [],
      "metadata": {
        "id": "No019yweIkip"
      },
      "execution_count": null,
      "outputs": []
    },
    {
      "cell_type": "code",
      "source": [],
      "metadata": {
        "id": "GHzmfqYYIkl2"
      },
      "execution_count": null,
      "outputs": []
    },
    {
      "cell_type": "code",
      "source": [],
      "metadata": {
        "id": "i8nupHxIIkpR"
      },
      "execution_count": null,
      "outputs": []
    },
    {
      "cell_type": "code",
      "source": [],
      "metadata": {
        "id": "pDx_qS1LIksp"
      },
      "execution_count": null,
      "outputs": []
    }
  ]
}