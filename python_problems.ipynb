{
  "cells": [
    {
      "cell_type": "markdown",
      "metadata": {
        "id": "view-in-github",
        "colab_type": "text"
      },
      "source": [
        "<a href=\"https://colab.research.google.com/github/Pankaj-2003/General_python_practice/blob/main/python_problems.ipynb\" target=\"_parent\"><img src=\"https://colab.research.google.com/assets/colab-badge.svg\" alt=\"Open In Colab\"/></a>"
      ]
    },
    {
      "cell_type": "code",
      "execution_count": 1,
      "metadata": {
        "id": "Shc6PEDODOju"
      },
      "outputs": [],
      "source": [
        "# problem 1 -swap 1st and last element of list\n",
        "def swap(the_list):\n",
        "  temp = the_list[0]\n",
        "  the_list[0] = the_list[-1]\n",
        "  the_list[-1] = temp\n",
        "  return the_list"
      ]
    },
    {
      "cell_type": "code",
      "execution_count": 2,
      "metadata": {
        "id": "Dk9SujhsEyhb"
      },
      "outputs": [],
      "source": [
        "# problem 2 , Given a list in Python and provided the positions of the elements, write a program to swap the two elements in the list.\n",
        "input= [1, 2,3,4,5]\n",
        "pos1 = 2\n",
        "pos2 = 5\n",
        "def swap_given_pos(input , pos1 , pos2):\n",
        "\n",
        "  input[pos1-1] , input[pos2-1] = input[pos2-1] , input[pos1-1]\n",
        "  return input"
      ]
    },
    {
      "cell_type": "code",
      "execution_count": 3,
      "metadata": {
        "id": "I80UQBUFE5Ew"
      },
      "outputs": [],
      "source": [
        "# problem 3 , Given a list of integers with duplicate elements in it. The task is to generate another list, which contains only the duplicate elements. In simple words, the new list should contain elements that appear as more than one.\n",
        "input =  [10, 20, 30, 20, 20, 30, 40, 50, -20, 60, 60, -20, -20]\n",
        "\n",
        "def duplicate_list(input):\n",
        "  unique = []\n",
        "  duplicate = []\n",
        "  for i in input:\n",
        "    if i not in unique:\n",
        "      unique.append(i)\n",
        "    else:\n",
        "      if i not in duplicate:\n",
        "        duplicate.append(i)\n",
        "  return duplicate\n",
        "\n",
        "\n"
      ]
    },
    {
      "cell_type": "code",
      "execution_count": 4,
      "metadata": {
        "id": "VXEh0SAWGguC"
      },
      "outputs": [],
      "source": [
        "# problems on list of list\n",
        "# problem 4 , remove empty list\n",
        "input = [5, 6, [], 3, [], [], 9]\n",
        "def remove_empty_list(input):\n",
        "  input = [i for i in input if i != []]\n",
        "  return input\n"
      ]
    },
    {
      "cell_type": "code",
      "execution_count": 5,
      "metadata": {
        "id": "FHzkfsxeIkFt"
      },
      "outputs": [],
      "source": [
        "# problem5\n",
        "# Given a List, extract all elements whose frequency is greater than K.\n",
        "input = [4, 6, 4, 3, 3, 4, 3, 4, 3, 8]\n",
        "K = 3\n",
        "def greater_than(input):\n",
        "  for i in input:\n",
        "    pass\n"
      ]
    },
    {
      "cell_type": "code",
      "execution_count": 6,
      "metadata": {
        "id": "kXUZizVWIkI7"
      },
      "outputs": [],
      "source": [
        "# 50 array interview questions\n",
        "# question 1\n",
        "def peakElement(arr, n):\n",
        "\n",
        "    if n ==1:\n",
        "        print(\"yes\")\n",
        "        return 1\n",
        "\n",
        "    else:\n",
        "\n",
        "        for i in range(n):\n",
        "\n",
        "            if i == 0:\n",
        "\n",
        "                if arr[i] >= arr[i + 1]:\n",
        "                    return i\n",
        "                else:\n",
        "                  continue\n",
        "\n",
        "            elif i == n-1:\n",
        "                if arr[i] >= arr[i - 1]:\n",
        "\n",
        "                    return i\n",
        "            else:\n",
        "                if arr[i] >= arr[i-1] and arr[i] >= arr[i+1]:\n",
        "\n",
        "                    return i"
      ]
    },
    {
      "cell_type": "code",
      "execution_count": 7,
      "metadata": {
        "id": "_GWKiVkxIkMc"
      },
      "outputs": [],
      "source": [
        "# question 2 max and min element\n",
        "def get_min_max(arr):\n",
        "    min_ele = arr[0]\n",
        "    max_ele = arr[0]\n",
        "    for i in range(len(arr)):\n",
        "        if arr[i] > max_ele:\n",
        "            max_ele = arr[i]\n",
        "        elif arr[i] < min_ele:\n",
        "            min_ele = arr[i]\n",
        "    return [min_ele , max_ele]"
      ]
    },
    {
      "cell_type": "code",
      "execution_count": 8,
      "metadata": {
        "id": "H_vIAsm9IkP7"
      },
      "outputs": [],
      "source": [
        "# question 3\n",
        "def reverseWord(s) -> str:\n",
        "    s = list(s)\n",
        "    start , end = 0 , len(s) - 1\n",
        "    while start < end:\n",
        "      s[start] , s[end] = s[end] , s[start]\n",
        "      start += 1\n",
        "      end -= 1\n",
        "    return \"\".join(s)"
      ]
    },
    {
      "cell_type": "code",
      "execution_count": 9,
      "metadata": {
        "colab": {
          "base_uri": "https://localhost:8080/"
        },
        "id": "msM8ixqFIkTK",
        "outputId": "7c746187-56ac-4d18-b775-3c4af8582c06"
      },
      "outputs": [
        {
          "output_type": "stream",
          "name": "stdout",
          "text": [
            "[1, 2, 5, 5, 6]\n"
          ]
        }
      ],
      "source": [
        "arr = [5, 2, 1, 5, 6]\n",
        "# bubble\n",
        "k = len(arr) -1\n",
        "for i in range(k):\n",
        "  for j in range(len(arr)-1):\n",
        "    if arr[j] > arr[j+1]:\n",
        "      arr[j] , arr[j + 1] = arr[j +1] , arr[j]\n",
        "print(arr)"
      ]
    },
    {
      "cell_type": "code",
      "execution_count": 10,
      "metadata": {
        "id": "XWaP-p63IkXC"
      },
      "outputs": [],
      "source": [
        "arr = [5, 2, 1, 5, 6]\n",
        "# selection sort\n",
        "for i in range(len(arr)):\n",
        "  min_idx = i\n",
        "  for j in range(i + 1 , len(arr)):\n",
        "    if arr[j] < arr[min_idx]:\n",
        "      min_idx = j\n",
        "  arr[i] , arr[min_idx] =  arr[min_idx] , arr[i]\n"
      ]
    },
    {
      "cell_type": "code",
      "execution_count": 11,
      "metadata": {
        "id": "7gxKyZMkIkbM"
      },
      "outputs": [],
      "source": [
        "# question 4 find the kth smallest element in the array\n",
        "def kthSmallest(self,arr, l, r, k):\n",
        "\n",
        "    '''\n",
        "    arr : given array\n",
        "    l : starting index of the array i.e 0\n",
        "    r : ending index of the array i.e size-1\n",
        "    k : find kth smallest element and return using this function\n",
        "    '''\n",
        "    for i in range(k):\n",
        "        min_idx = 0\n",
        "        kth_smallest = arr[0]\n",
        "        for j in range(l +1 , len(arr)):\n",
        "            if arr[j] < arr[min_idx]:\n",
        "\n",
        "                min_idx = j\n",
        "        kth_smallest = arr[min_idx]\n",
        "        arr.remove(arr[min_idx])\n",
        "\n",
        "    return kth_smallest\n",
        "\n",
        "\n",
        "# took more time\n",
        "\n"
      ]
    },
    {
      "cell_type": "code",
      "execution_count": 12,
      "metadata": {
        "id": "f49G-mpJS1qZ"
      },
      "outputs": [],
      "source": [
        "# another method\n",
        "def kthSmallest(arr, l, r, k):\n",
        "\n",
        "    '''\n",
        "    arr : given array\n",
        "    l : starting index of the array i.e 0\n",
        "    r : ending index of the array i.e size-1\n",
        "    k : find kth smallest element and return using this function\n",
        "    '''\n",
        "    for i in range(iter):\n",
        "        for j in range(r):\n",
        "            if arr[j] > arr[j+1]:\n",
        "                arr[j] , arr[j+1] = arr[j+1] , arr[j]\n",
        "    return arr[k-1]\n",
        "\n"
      ]
    },
    {
      "cell_type": "code",
      "execution_count": 13,
      "metadata": {
        "id": "9xHeujafS-on"
      },
      "outputs": [],
      "source": [
        "# finding kth smallest using min heap\n",
        "import heapq\n",
        "def kth_smallest_element(arr , k):\n",
        "  min_heap = arr[:] # copy of array\n",
        "  heapq.heapify(min_heap) # creating a min heap\n",
        "  for _ in range(k-1): # iterating over that heap to get the kth smallest element by min heap deletion\n",
        "    heapq.heappop(min_heap)\n",
        "    # we have removed all small elements before the kth element\n",
        "  kth_smallest = heapq.heappop(min_heap)# so here we remove and store the kth smallest element\n",
        "\n",
        "  max_heap = [-x for x in arr] # we negate the values so that the smallest becomes the largest and min heap will take it as largest\n",
        "  heapq.heapify(max_heap)\n",
        "\n",
        "  for _ in range(k-1):\n",
        "    heapq.heappop(max_heap)\n",
        "  kth_largest = - heapq.heappop(max_heap) # getting back the positive value\n",
        "  return kth_smallest , kth_largest\n",
        "\n",
        "\n",
        "\n",
        "\n"
      ]
    },
    {
      "cell_type": "code",
      "execution_count": 14,
      "metadata": {
        "id": "rUJE1d9eS-rQ"
      },
      "outputs": [],
      "source": [
        "# sort array of 0's , 1's and 2's using dutch national flag algorithm\n",
        "def sort012(arr,n):\n",
        "    low = 0\n",
        "    mid = 0\n",
        "    high = n-1\n",
        "    while mid <= high:\n",
        "        if arr[mid] == 0:\n",
        "            arr[mid] , arr[low] = arr[low] , arr[mid]\n",
        "            low += 1\n",
        "            mid += 1\n",
        "        elif arr[mid] == 2:\n",
        "            arr[mid] ,arr[high] = arr[high] , arr[mid]\n",
        "            high -= 1\n",
        "        else:\n",
        "            mid += 1\n",
        "    return arr\n",
        "\n"
      ]
    },
    {
      "cell_type": "code",
      "execution_count": 15,
      "metadata": {
        "id": "i4Y1pnHuS-uC",
        "colab": {
          "base_uri": "https://localhost:8080/"
        },
        "outputId": "e7f03feb-b6d1-487c-f6e7-9b0d408fa0b4"
      },
      "outputs": [
        {
          "output_type": "stream",
          "name": "stdout",
          "text": [
            "-1\n"
          ]
        }
      ],
      "source": [
        "# subarray with a given sum\n",
        "# my solution\n",
        "arr = [0]\n",
        "n, s = 1, 1\n",
        "flag = 0\n",
        "for i in range(n):\n",
        "  sum = 0\n",
        "  for j in range(i , n):\n",
        "    sum += arr[j]\n",
        "\n",
        "    if sum == s:\n",
        "      print(sum)\n",
        "      print(i)\n",
        "      left = i+1\n",
        "      right = j+1\n",
        "      flag = 1\n",
        "      break\n",
        "  if sum == s:\n",
        "    break\n",
        "if flag ==1:\n",
        "  print(left , right)\n",
        "else:\n",
        "  print(-1)\n",
        "\n",
        "# optimal solution\n",
        "\n",
        "\n",
        "\n",
        "\n",
        "\n"
      ]
    },
    {
      "cell_type": "code",
      "source": [
        "arr= [1, -1, 6, 2, -7, -5, 11, 6]\n",
        "flag = 0\n",
        "last_ele = arr[-1]\n",
        "for i in range(len(arr)):\n",
        "  if flag ==1:\n",
        "\n",
        "    if arr[i-1]<0:\n",
        "      arr.append(arr[i-1])\n",
        "      arr.remove(arr[i-1])\n",
        "\n",
        "\n",
        "  if arr[i] < 0:\n",
        "    flag = 1\n",
        "    arr.append(arr[i])\n",
        "    arr.remove(arr[i])\n",
        "\n",
        "  else:\n",
        "    pass\n",
        "    flag = 0\n",
        "\n",
        "  print(arr),   print(i) , print(flag)"
      ],
      "metadata": {
        "id": "223Lf1kWJNC1",
        "colab": {
          "base_uri": "https://localhost:8080/"
        },
        "outputId": "4c353f98-5bc6-41e4-f83d-d605f56b2751"
      },
      "execution_count": 31,
      "outputs": [
        {
          "output_type": "stream",
          "name": "stdout",
          "text": [
            "[1, -1, 6, 2, -7, -5, 11, 6]\n",
            "0\n",
            "0\n",
            "[1, 6, 2, -7, -5, 11, 6, -1]\n",
            "1\n",
            "1\n",
            "[1, 6, 2, -7, -5, 11, 6, -1]\n",
            "2\n",
            "0\n",
            "[1, 6, 2, -5, 11, 6, -1, -7]\n",
            "3\n",
            "1\n",
            "[1, 6, 2, 11, 6, -1, -7, -5]\n",
            "4\n",
            "0\n",
            "[1, 6, 2, 11, 6, -7, -5, -1]\n",
            "5\n",
            "1\n",
            "[1, 6, 2, 11, 6, -5, -7, -1]\n",
            "6\n",
            "1\n",
            "[1, 6, 2, 11, 6, -5, -1, -7]\n",
            "7\n",
            "1\n"
          ]
        }
      ]
    },
    {
      "cell_type": "code",
      "source": [
        "arr = [1, -1, 6, 2, -7, -5, 11, 6]\n",
        "n = len(arr)\n",
        "flag = 0  # This will now act as the boundary between positive and negative elements.\n",
        "\n",
        "# Iterate through the array\n",
        "for i in range(n):\n",
        "    if arr[i] >= 0:\n",
        "        # If the current element is positive, swap it with the element at the \"flag\" position\n",
        "        arr[flag], arr[i] = arr[i], arr[flag]\n",
        "        flag += 1  # Move the flag to the next position for the next positive number\n",
        "\n",
        "# The array is now modified in-place\n",
        "print(\"Modified array:\", arr)\n"
      ],
      "metadata": {
        "id": "N6pIj6N0JNHg",
        "colab": {
          "base_uri": "https://localhost:8080/"
        },
        "outputId": "7fbf77b3-0f9b-463a-a185-c2c24c6e18e1"
      },
      "execution_count": 33,
      "outputs": [
        {
          "output_type": "stream",
          "name": "stdout",
          "text": [
            "Modified array: [1, 6, 2, 11, 6, -5, -1, -7]\n"
          ]
        }
      ]
    },
    {
      "cell_type": "code",
      "source": [
        "arr"
      ],
      "metadata": {
        "id": "uXyz6CIIJNLp",
        "colab": {
          "base_uri": "https://localhost:8080/"
        },
        "outputId": "4fdb6261-704a-4354-8db9-60e325f82ac7"
      },
      "execution_count": 18,
      "outputs": [
        {
          "output_type": "execute_result",
          "data": {
            "text/plain": [
              "[3, -7, 11, -1, -1, -1, 3, 3]"
            ]
          },
          "metadata": {},
          "execution_count": 18
        }
      ]
    },
    {
      "cell_type": "code",
      "source": [],
      "metadata": {
        "id": "LD0d_VrQJNQi"
      },
      "execution_count": 18,
      "outputs": []
    },
    {
      "cell_type": "code",
      "source": [],
      "metadata": {
        "id": "neTG2_uEJNVz"
      },
      "execution_count": 18,
      "outputs": []
    },
    {
      "cell_type": "code",
      "source": [],
      "metadata": {
        "id": "u3hcFR5zJNbg"
      },
      "execution_count": 18,
      "outputs": []
    },
    {
      "cell_type": "code",
      "source": [],
      "metadata": {
        "id": "GZu3n8iAJNfx"
      },
      "execution_count": 18,
      "outputs": []
    },
    {
      "cell_type": "code",
      "source": [],
      "metadata": {
        "id": "W8ZOah3OJNk8"
      },
      "execution_count": 18,
      "outputs": []
    },
    {
      "cell_type": "code",
      "source": [],
      "metadata": {
        "id": "Lm6Y-mhGJNru"
      },
      "execution_count": 18,
      "outputs": []
    },
    {
      "cell_type": "code",
      "source": [],
      "metadata": {
        "id": "Ho4dj2YgJNwo"
      },
      "execution_count": 18,
      "outputs": []
    },
    {
      "cell_type": "code",
      "source": [],
      "metadata": {
        "id": "53h5onaiJN1T"
      },
      "execution_count": 18,
      "outputs": []
    },
    {
      "cell_type": "code",
      "source": [],
      "metadata": {
        "id": "jIwP53cEJN5T"
      },
      "execution_count": 18,
      "outputs": []
    },
    {
      "cell_type": "code",
      "source": [],
      "metadata": {
        "id": "vpF4y0O5JN9i"
      },
      "execution_count": 18,
      "outputs": []
    }
  ],
  "metadata": {
    "colab": {
      "provenance": [],
      "authorship_tag": "ABX9TyO0w/GAx1Yu2jdJrmKBerQE",
      "include_colab_link": true
    },
    "kernelspec": {
      "display_name": "Python 3",
      "name": "python3"
    },
    "language_info": {
      "name": "python"
    }
  },
  "nbformat": 4,
  "nbformat_minor": 0
}